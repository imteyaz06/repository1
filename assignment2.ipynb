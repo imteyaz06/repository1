{
 "cells": [
  {
   "cell_type": "code",
   "execution_count": 1,
   "id": "e0bc3a8f-b06c-4229-aa82-0f39ca0d00ad",
   "metadata": {},
   "outputs": [],
   "source": [
    "#Q1 we use # before each line to comment in python. there are single line comment, multiple line comment and Docsrting comment"
   ]
  },
  {
   "cell_type": "code",
   "execution_count": 2,
   "id": "bb6acd56-efc0-4963-ba6b-4fe638c87c03",
   "metadata": {},
   "outputs": [],
   "source": [
    "#Q2 A Python variable is a symbolic name that is a reference or pointer to an object. Python has no command for declaring a variable. A variable is created the moment you first assign a value to it.\n"
   ]
  },
  {
   "cell_type": "code",
   "execution_count": 3,
   "id": "28a0eb50-cfd1-4050-932e-d7e146994de2",
   "metadata": {},
   "outputs": [],
   "source": [
    "#Q3. We convert one data type to another  by typecasting. eg."
   ]
  },
  {
   "cell_type": "code",
   "execution_count": 15,
   "id": "65ffc218-d0de-4926-8f4e-5c254939c957",
   "metadata": {},
   "outputs": [],
   "source": [
    "a = 10 # is a int data type"
   ]
  },
  {
   "cell_type": "code",
   "execution_count": 16,
   "id": "6af4ffaf-5927-4722-bfe2-4ca00d0ec7e2",
   "metadata": {},
   "outputs": [
    {
     "data": {
      "text/plain": [
       "int"
      ]
     },
     "execution_count": 16,
     "metadata": {},
     "output_type": "execute_result"
    }
   ],
   "source": [
    "type(a)"
   ]
  },
  {
   "cell_type": "code",
   "execution_count": 19,
   "id": "2eadb441-f2b6-4499-b60b-f9bd632663bd",
   "metadata": {},
   "outputs": [
    {
     "data": {
      "text/plain": [
       "'10'"
      ]
     },
     "execution_count": 19,
     "metadata": {},
     "output_type": "execute_result"
    }
   ],
   "source": [
    "str(a)"
   ]
  },
  {
   "cell_type": "code",
   "execution_count": 23,
   "id": "1b90b6e6-3e9c-405a-9a1f-7af1fb514d33",
   "metadata": {},
   "outputs": [
    {
     "data": {
      "text/plain": [
       "str"
      ]
     },
     "execution_count": 23,
     "metadata": {},
     "output_type": "execute_result"
    }
   ],
   "source": [
    "type(str(a))"
   ]
  },
  {
   "cell_type": "code",
   "execution_count": 24,
   "id": "e35dc8cd-f760-4a76-8520-4dd83b99af90",
   "metadata": {},
   "outputs": [],
   "source": [
    "#Q4 open a command line and type the word python followed by the path to your script file like this: python first_script.py Hello World! Then you hit the ENTER button from the keyboard, and that's it."
   ]
  },
  {
   "cell_type": "code",
   "execution_count": 25,
   "id": "0b09834e-1286-4f7d-866f-cda3ccc841d8",
   "metadata": {},
   "outputs": [],
   "source": [
    "#Q5"
   ]
  },
  {
   "cell_type": "code",
   "execution_count": 26,
   "id": "c68f3ea6-bdef-4a25-8879-e4e95b15303b",
   "metadata": {},
   "outputs": [
    {
     "data": {
      "text/plain": [
       "[2, 3]"
      ]
     },
     "execution_count": 26,
     "metadata": {},
     "output_type": "execute_result"
    }
   ],
   "source": [
    "my_list=[1,2,3,4,5]\n",
    "my_list[1:3]"
   ]
  },
  {
   "cell_type": "code",
   "execution_count": 27,
   "id": "cf23d4df-a7db-4636-8ef1-1418b76f85ff",
   "metadata": {},
   "outputs": [],
   "source": [
    "#complex number: In mathematics, a complex number is an element of a number system that extends the real numbers with a specific element denoted i, called the imaginary unit and satisfying the equation {where i^{2}=-1}; every complex number can be expressed in the form a + bi, where a and b are real numbers."
   ]
  },
  {
   "cell_type": "code",
   "execution_count": 28,
   "id": "c9da368b-e999-483c-939c-1218a64a3334",
   "metadata": {},
   "outputs": [],
   "source": [
    "c=2+6j\n",
    "C=2+6J  #j/J is the same iota that is in math"
   ]
  },
  {
   "cell_type": "code",
   "execution_count": 31,
   "id": "f7de271c-97c5-4d5f-9ec1-8d22244c4fd7",
   "metadata": {},
   "outputs": [
    {
     "data": {
      "text/plain": [
       "25"
      ]
     },
     "execution_count": 31,
     "metadata": {},
     "output_type": "execute_result"
    }
   ],
   "source": [
    "#Q7\n",
    "age =25\n",
    "age"
   ]
  },
  {
   "cell_type": "code",
   "execution_count": 34,
   "id": "8c5a300d-5554-440f-8c06-51068502d920",
   "metadata": {},
   "outputs": [
    {
     "data": {
      "text/plain": [
       "float"
      ]
     },
     "execution_count": 34,
     "metadata": {},
     "output_type": "execute_result"
    }
   ],
   "source": [
    "#Q8\n",
    "price = 9.99\n",
    "\n",
    "type(price)"
   ]
  },
  {
   "cell_type": "code",
   "execution_count": 35,
   "id": "2ad24e81-4512-476c-b27d-9458dcf6d381",
   "metadata": {},
   "outputs": [],
   "source": [
    "#9\n",
    "name = \"imteyaz ibrahim ansari\""
   ]
  },
  {
   "cell_type": "code",
   "execution_count": 39,
   "id": "e2c82166-12d5-4542-8b75-eddb2cb6caed",
   "metadata": {},
   "outputs": [
    {
     "data": {
      "text/plain": [
       "22"
      ]
     },
     "execution_count": 39,
     "metadata": {},
     "output_type": "execute_result"
    }
   ],
   "source": [
    "len(name)  #value of this variable??"
   ]
  },
  {
   "cell_type": "code",
   "execution_count": 40,
   "id": "32ea63e6-72a5-42e7-a0ee-35ebf0153542",
   "metadata": {},
   "outputs": [
    {
     "data": {
      "text/plain": [
       "'World'"
      ]
     },
     "execution_count": 40,
     "metadata": {},
     "output_type": "execute_result"
    }
   ],
   "source": [
    "#10\n",
    "s=\"Hello, World!\"\n",
    "s[7:12]"
   ]
  },
  {
   "cell_type": "code",
   "execution_count": 41,
   "id": "37e52960-6c77-4b88-b6b1-d0b3de76b605",
   "metadata": {},
   "outputs": [],
   "source": [
    "#11\n",
    "is_student=True"
   ]
  },
  {
   "cell_type": "code",
   "execution_count": null,
   "id": "e1c3f3a7-646d-4c1a-9ae9-83287d52ab11",
   "metadata": {},
   "outputs": [],
   "source": []
  }
 ],
 "metadata": {
  "kernelspec": {
   "display_name": "Python 3 (ipykernel)",
   "language": "python",
   "name": "python3"
  },
  "language_info": {
   "codemirror_mode": {
    "name": "ipython",
    "version": 3
   },
   "file_extension": ".py",
   "mimetype": "text/x-python",
   "name": "python",
   "nbconvert_exporter": "python",
   "pygments_lexer": "ipython3",
   "version": "3.10.8"
  }
 },
 "nbformat": 4,
 "nbformat_minor": 5
}
