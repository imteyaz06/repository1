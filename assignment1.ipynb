{
 "cells": [
  {
   "cell_type": "code",
   "execution_count": 10,
   "id": "d55edaca-2b1d-40e5-84c7-74fca850a678",
   "metadata": {},
   "outputs": [],
   "source": [
    "#Q1\n",
    "#1.string\n",
    "s=\"string_data\"\n",
    "#2.list\n",
    "l=[1,2,3,4,5,6]\n",
    "#3.float\n",
    "f=3.14\n",
    "#tuple\n",
    "t=(1,2,3,4,5,6)\n",
    "\n"
   ]
  },
  {
   "cell_type": "code",
   "execution_count": 11,
   "id": "428cba9b-4bfe-41ec-9f7e-84309a9f9cfb",
   "metadata": {},
   "outputs": [],
   "source": [
    "#Q2\n",
    "var1=\"\"\n",
    "var2='[DS,ML,PYTHON]'\n",
    "var3=['DS','ML','PYTHON']\n",
    "var4=1\n"
   ]
  },
  {
   "cell_type": "code",
   "execution_count": 12,
   "id": "f17b33e5-733f-443a-913d-94eee1676c95",
   "metadata": {},
   "outputs": [
    {
     "data": {
      "text/plain": [
       "str"
      ]
     },
     "execution_count": 12,
     "metadata": {},
     "output_type": "execute_result"
    }
   ],
   "source": [
    "type(var1)"
   ]
  },
  {
   "cell_type": "code",
   "execution_count": 13,
   "id": "a9103e60-3f57-41ed-92a6-6946fc74899d",
   "metadata": {},
   "outputs": [
    {
     "data": {
      "text/plain": [
       "str"
      ]
     },
     "execution_count": 13,
     "metadata": {},
     "output_type": "execute_result"
    }
   ],
   "source": [
    "type(var2)"
   ]
  },
  {
   "cell_type": "code",
   "execution_count": 14,
   "id": "af65bee5-be99-4f53-86d0-4bf30176e52a",
   "metadata": {},
   "outputs": [
    {
     "data": {
      "text/plain": [
       "list"
      ]
     },
     "execution_count": 14,
     "metadata": {},
     "output_type": "execute_result"
    }
   ],
   "source": [
    "type(var3)"
   ]
  },
  {
   "cell_type": "code",
   "execution_count": 15,
   "id": "9495e6a3-044c-4192-bf35-b7dfa0c27bab",
   "metadata": {},
   "outputs": [
    {
     "data": {
      "text/plain": [
       "int"
      ]
     },
     "execution_count": 15,
     "metadata": {},
     "output_type": "execute_result"
    }
   ],
   "source": [
    "type(var4)"
   ]
  },
  {
   "cell_type": "code",
   "execution_count": 16,
   "id": "d34739e6-0c5b-4900-bb8c-5b92ba44c75b",
   "metadata": {},
   "outputs": [
    {
     "data": {
      "text/plain": [
       "3.3333333333333335"
      ]
     },
     "execution_count": 16,
     "metadata": {},
     "output_type": "execute_result"
    }
   ],
   "source": [
    "#Q3\n",
    "10/3 #divison operator "
   ]
  },
  {
   "cell_type": "code",
   "execution_count": 17,
   "id": "6f18940f-2ace-4f14-b0c5-860d74ae5901",
   "metadata": {},
   "outputs": [
    {
     "data": {
      "text/plain": [
       "1"
      ]
     },
     "execution_count": 17,
     "metadata": {},
     "output_type": "execute_result"
    }
   ],
   "source": [
    "10%3 #a%b means remainder when a is divided by b"
   ]
  },
  {
   "cell_type": "code",
   "execution_count": 18,
   "id": "071afac0-7dbf-449f-bbf4-4e7f37ba6bf5",
   "metadata": {},
   "outputs": [
    {
     "data": {
      "text/plain": [
       "3"
      ]
     },
     "execution_count": 18,
     "metadata": {},
     "output_type": "execute_result"
    }
   ],
   "source": [
    "10//3 #a//b floor function, a//b means graetest integer when a is divided by b not greater than a/b"
   ]
  },
  {
   "cell_type": "code",
   "execution_count": 21,
   "id": "fd02af90-200f-4248-9219-8c7400753da0",
   "metadata": {},
   "outputs": [
    {
     "data": {
      "text/plain": [
       "1000"
      ]
     },
     "execution_count": 21,
     "metadata": {},
     "output_type": "execute_result"
    }
   ],
   "source": [
    "10**3 #a**b means a to the power b or result when a multiplied b times"
   ]
  },
  {
   "cell_type": "code",
   "execution_count": 23,
   "id": "4df9fa7d-4907-4cb5-a961-c6665b72a8a0",
   "metadata": {},
   "outputs": [
    {
     "name": "stdout",
     "output_type": "stream",
     "text": [
      "1\n",
      "<class 'int'>\n",
      "2\n",
      "<class 'int'>\n",
      "3\n",
      "<class 'int'>\n",
      "4\n",
      "<class 'int'>\n",
      "5\n",
      "<class 'int'>\n",
      "True\n",
      "<class 'bool'>\n",
      "abc\n",
      "<class 'str'>\n",
      "xyz\n",
      "<class 'str'>\n",
      "False\n",
      "<class 'bool'>\n",
      "1.2\n",
      "<class 'float'>\n"
     ]
    }
   ],
   "source": [
    "#Q4\n",
    "l=[1,2,3,4,5,True,\"abc\",'xyz',False,1.2]\n",
    "for i in l:\n",
    "    print(i)\n",
    "    print(type(i))"
   ]
  },
  {
   "cell_type": "code",
   "execution_count": null,
   "id": "2239a6ad-e12b-4e25-ae4c-eea30262fd42",
   "metadata": {},
   "outputs": [],
   "source": [
    "#Q5 using if else"
   ]
  },
  {
   "cell_type": "code",
   "execution_count": 5,
   "id": "58a8f1c5-63c6-4e97-a66b-32daee92ff65",
   "metadata": {},
   "outputs": [
    {
     "name": "stdin",
     "output_type": "stream",
     "text": [
      "Enter first number A: 21\n",
      "Enter second number B: 4\n"
     ]
    },
    {
     "name": "stdout",
     "output_type": "stream",
     "text": [
      "Number A is not purely divisible by B.\n"
     ]
    }
   ],
   "source": [
    "A = float(input(\"Enter first number A:\"))\n",
    "B = float(input(\"Enter second number B:\"))\n",
    "if A%B == 0:\n",
    "    print(\"Number of times A divides B is: \",A/B)\n",
    "else:\n",
    "    print(\"Number A is not purely divisible by B.\")"
   ]
  },
  {
   "cell_type": "code",
   "execution_count": null,
   "id": "ba67727b-8a3f-4e26-a57a-1465e134df48",
   "metadata": {},
   "outputs": [],
   "source": [
    "\"\"\"#Q5 using while loop\n",
    "A = float(input(\"Enter first number A:\"))\n",
    "B = float(input(\"Enter second number B:\"))\n",
    "i=A-B\n",
    "r=0\n",
    "while i>B:\n",
    "    i=A-B\n",
    "    r=r+1\"\"\"\n",
    "\n",
    "    \n",
    "    \n",
    "\n",
    "    "
   ]
  },
  {
   "cell_type": "code",
   "execution_count": 3,
   "id": "dbe5a84b-43a4-4231-aced-0bb571d9d74d",
   "metadata": {},
   "outputs": [],
   "source": [
    "#Q6\n",
    "l=list(range(1,26))"
   ]
  },
  {
   "cell_type": "code",
   "execution_count": 4,
   "id": "3b2a947b-6213-4f2b-83f3-1a1c1da3c521",
   "metadata": {},
   "outputs": [
    {
     "data": {
      "text/plain": [
       "[1,\n",
       " 2,\n",
       " 3,\n",
       " 4,\n",
       " 5,\n",
       " 6,\n",
       " 7,\n",
       " 8,\n",
       " 9,\n",
       " 10,\n",
       " 11,\n",
       " 12,\n",
       " 13,\n",
       " 14,\n",
       " 15,\n",
       " 16,\n",
       " 17,\n",
       " 18,\n",
       " 19,\n",
       " 20,\n",
       " 21,\n",
       " 22,\n",
       " 23,\n",
       " 24,\n",
       " 25]"
      ]
     },
     "execution_count": 4,
     "metadata": {},
     "output_type": "execute_result"
    }
   ],
   "source": [
    "l"
   ]
  },
  {
   "cell_type": "code",
   "execution_count": 6,
   "id": "1b09d0cd-40cb-4d8d-b0cc-631a76283e4d",
   "metadata": {},
   "outputs": [
    {
     "name": "stdout",
     "output_type": "stream",
     "text": [
      "1  is not divisible by 3.\n",
      "2  is not divisible by 3.\n",
      "3  is divisible by 3.\n",
      "4  is not divisible by 3.\n",
      "5  is not divisible by 3.\n",
      "6  is divisible by 3.\n",
      "7  is not divisible by 3.\n",
      "8  is not divisible by 3.\n",
      "9  is divisible by 3.\n",
      "10  is not divisible by 3.\n",
      "11  is not divisible by 3.\n",
      "12  is divisible by 3.\n",
      "13  is not divisible by 3.\n",
      "14  is not divisible by 3.\n",
      "15  is divisible by 3.\n",
      "16  is not divisible by 3.\n",
      "17  is not divisible by 3.\n",
      "18  is divisible by 3.\n",
      "19  is not divisible by 3.\n",
      "20  is not divisible by 3.\n",
      "21  is divisible by 3.\n",
      "22  is not divisible by 3.\n",
      "23  is not divisible by 3.\n",
      "24  is divisible by 3.\n",
      "25  is not divisible by 3.\n"
     ]
    }
   ],
   "source": [
    "for i in l:\n",
    "    if i%3==0:\n",
    "        print(i,\" is divisible by 3.\")\n",
    "    else:\n",
    "        print(i,\" is not divisible by 3.\")"
   ]
  },
  {
   "cell_type": "code",
   "execution_count": 7,
   "id": "a2fa3d7f-627e-4f1c-abe8-7dafdf719a31",
   "metadata": {},
   "outputs": [],
   "source": [
    "#Q7 \n",
    "#MUTABLE & IMMUTABLE: if a data can be changed by recalling it through its index and can be changed then it is mutable else immutable\n",
    "#list data type are mutable however sets,strings are some of immutable data types."
   ]
  },
  {
   "cell_type": "code",
   "execution_count": 8,
   "id": "acceca19-56eb-425c-a2f8-777bb0d384a2",
   "metadata": {},
   "outputs": [],
   "source": [
    "l=[1,2,3,4,5,6,7,8]\n"
   ]
  },
  {
   "cell_type": "code",
   "execution_count": 9,
   "id": "dd930156-22dd-475b-a052-122fdecea2c0",
   "metadata": {},
   "outputs": [
    {
     "data": {
      "text/plain": [
       "1"
      ]
     },
     "execution_count": 9,
     "metadata": {},
     "output_type": "execute_result"
    }
   ],
   "source": [
    "l[0]"
   ]
  },
  {
   "cell_type": "code",
   "execution_count": 10,
   "id": "b15f535e-3481-4c8f-95eb-af6746506f8e",
   "metadata": {},
   "outputs": [],
   "source": [
    "l[0]=5"
   ]
  },
  {
   "cell_type": "code",
   "execution_count": 11,
   "id": "3b10e398-d177-419a-9fcc-9424e1be320c",
   "metadata": {},
   "outputs": [
    {
     "data": {
      "text/plain": [
       "5"
      ]
     },
     "execution_count": 11,
     "metadata": {},
     "output_type": "execute_result"
    }
   ],
   "source": [
    "l[0]"
   ]
  },
  {
   "cell_type": "code",
   "execution_count": 12,
   "id": "849932e6-096e-4b0e-8de2-09b4a9e0ad15",
   "metadata": {},
   "outputs": [
    {
     "data": {
      "text/plain": [
       "[5, 2, 3, 4, 5, 6, 7, 8]"
      ]
     },
     "execution_count": 12,
     "metadata": {},
     "output_type": "execute_result"
    }
   ],
   "source": [
    "l"
   ]
  },
  {
   "cell_type": "code",
   "execution_count": 13,
   "id": "9384d995-3b1e-4601-8631-8217b3013af7",
   "metadata": {},
   "outputs": [],
   "source": [
    "#l (which is a list) is mutable"
   ]
  },
  {
   "cell_type": "code",
   "execution_count": 14,
   "id": "a67eb849-3ecb-45eb-ba37-ad88590f18a7",
   "metadata": {},
   "outputs": [],
   "source": [
    "a=\"pwskills\" "
   ]
  },
  {
   "cell_type": "code",
   "execution_count": 15,
   "id": "0600c1ff-2cb7-4308-bc8e-4210a781f45c",
   "metadata": {},
   "outputs": [
    {
     "data": {
      "text/plain": [
       "'p'"
      ]
     },
     "execution_count": 15,
     "metadata": {},
     "output_type": "execute_result"
    }
   ],
   "source": [
    "a[0]"
   ]
  },
  {
   "cell_type": "code",
   "execution_count": 16,
   "id": "29e9e010-199b-4712-9396-71bfdde602f6",
   "metadata": {},
   "outputs": [
    {
     "ename": "TypeError",
     "evalue": "'str' object does not support item assignment",
     "output_type": "error",
     "traceback": [
      "\u001b[0;31m---------------------------------------------------------------------------\u001b[0m",
      "\u001b[0;31mTypeError\u001b[0m                                 Traceback (most recent call last)",
      "Cell \u001b[0;32mIn[16], line 1\u001b[0m\n\u001b[0;32m----> 1\u001b[0m \u001b[43ma\u001b[49m\u001b[43m[\u001b[49m\u001b[38;5;241;43m0\u001b[39;49m\u001b[43m]\u001b[49m\u001b[38;5;241m=\u001b[39m\u001b[38;5;124m\"\u001b[39m\u001b[38;5;124mf\u001b[39m\u001b[38;5;124m\"\u001b[39m\n",
      "\u001b[0;31mTypeError\u001b[0m: 'str' object does not support item assignment"
     ]
    }
   ],
   "source": [
    "a[0]=\"f\""
   ]
  },
  {
   "cell_type": "code",
   "execution_count": null,
   "id": "9e3ea1db-6b7f-4bac-a329-fd1364027a19",
   "metadata": {},
   "outputs": [],
   "source": [
    "#a is a string is immutable"
   ]
  }
 ],
 "metadata": {
  "kernelspec": {
   "display_name": "Python 3 (ipykernel)",
   "language": "python",
   "name": "python3"
  },
  "language_info": {
   "codemirror_mode": {
    "name": "ipython",
    "version": 3
   },
   "file_extension": ".py",
   "mimetype": "text/x-python",
   "name": "python",
   "nbconvert_exporter": "python",
   "pygments_lexer": "ipython3",
   "version": "3.10.8"
  }
 },
 "nbformat": 4,
 "nbformat_minor": 5
}
